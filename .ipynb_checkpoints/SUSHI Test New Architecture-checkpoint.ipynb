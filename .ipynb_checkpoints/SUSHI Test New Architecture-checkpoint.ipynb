{
 "cells": [
  {
   "cell_type": "markdown",
   "id": "ede2bff5",
   "metadata": {},
   "source": [
    "This notebook shows an example of SUSHI being used to unmix the components of the toymodel described in Lascar, Acero, Bobin 2023. "
   ]
  },
  {
   "cell_type": "code",
   "execution_count": 15,
   "id": "d147bd7e",
   "metadata": {},
   "outputs": [
    {
     "name": "stdout",
     "output_type": "stream",
     "text": [
      "Numba imported\n",
      "The autoreload extension is already loaded. To reload it, use:\n",
      "  %reload_ext autoreload\n"
     ]
    }
   ],
   "source": [
    "# Imports \n",
    "%matplotlib inline\n",
    "\n",
    "#autorealod library when an external lib is changed. \n",
    "import sys, os\n",
    "%load_ext autoreload  \n",
    "%autoreload 2\n",
    "import numpy as np \n",
    "import matplotlib.pyplot as plt\n",
    "import pickle\n",
    "from ipywidgets import interact, fixed\n",
    "import numba #not mandatory, but without numba, the wavelet transform is much slower.\n",
    "from Sushi import SUSHI\n",
    "import IAE_JAX_v2_devl_2022 as mld\n"
   ]
  },
  {
   "cell_type": "markdown",
   "id": "15d24448",
   "metadata": {},
   "source": [
    "# Loading the toymodel"
   ]
  },
  {
   "cell_type": "code",
   "execution_count": 2,
   "id": "aa2adf4f",
   "metadata": {},
   "outputs": [],
   "source": [
    "with open(\"toymodel_data.p\",\"rb\") as f:\n",
    "    DATA=pickle.load(f)\n",
    "with open(\"toymodel_ground_truth.p\",\"rb\") as f:\n",
    "    GT=pickle.load(f)"
   ]
  },
  {
   "cell_type": "code",
   "execution_count": 3,
   "id": "6219daca",
   "metadata": {},
   "outputs": [
    {
     "data": {
      "application/vnd.jupyter.widget-view+json": {
       "model_id": "86755eebfc8f42f39f5a730f66c0fa82",
       "version_major": 2,
       "version_minor": 0
      },
      "text/plain": [
       "interactive(children=(IntSlider(value=46, description='i', max=93), IntSlider(value=46, description='j', max=9…"
      ]
     },
     "metadata": {},
     "output_type": "display_data"
    },
    {
     "data": {
      "text/plain": [
       "<function __main__.show_data_cube(i, j, param)>"
      ]
     },
     "execution_count": 3,
     "metadata": {},
     "output_type": "execute_result"
    }
   ],
   "source": [
    "def show_data_cube(i,j,param):\n",
    "    #i,j: pixel position\n",
    "    #param: parameter to show the ground truth of. \n",
    "    #    kT: temperature. z: velocity redshift. \n",
    "    #    pho: photon index (synchrotron component)\n",
    "    E=GT[\"channels\"]\n",
    "    fig,ax=plt.subplots(1,2,figsize=(11,4),gridspec_kw={'width_ratios': [3, 2]})\n",
    "    ax[0].plot(E,DATA[:,i,j],alpha=0.5,label=\"data\")\n",
    "    ax[0].plot(E,GT[\"Total\"][:,i,j],\"k--\")\n",
    "    ax[0].plot(E,GT[\"Thermal\"][:,i,j],\"r--\")\n",
    "    ax[0].plot(E,GT[\"Synch\"][:,i,j],\"g--\")\n",
    "    pcm=ax[1].imshow(GT[\"Params\"][param])\n",
    "    ax[1].scatter(j,i,c=\"r\",marker=\"+\")\n",
    "    fig.colorbar(pcm,ax=ax[1],shrink=0.8)\n",
    "interact(show_data_cube,i=(0,93,1),j=(0,93,1),param=[\"kT\",\"z\",\"pho\"])"
   ]
  },
  {
   "cell_type": "markdown",
   "id": "e5b1ac3e",
   "metadata": {},
   "source": [
    "# Importing the trained IAE models"
   ]
  },
  {
   "cell_type": "code",
   "execution_count": 6,
   "id": "45e459af",
   "metadata": {},
   "outputs": [],
   "source": [
    "model_name=\"IAE_synchrotron_powerlaw_pho_3keV-8keV_2AP\"\n",
    "model = mld.load_model(model_name)\n",
    "IAE_Thermal = mld.IAE(Model = model)\n",
    "\n",
    "model_name=\"IAE_thermal_abdapec_kT_z_3keV-8keV_4AP\"\n",
    "model= mld.load_model(model_name)\n",
    "IAE_Synch= mld.IAE(Model = model)"
   ]
  },
  {
   "cell_type": "markdown",
   "id": "7bd0f95b",
   "metadata": {},
   "source": [
    "# Using SUSHI "
   ]
  },
  {
   "cell_type": "code",
   "execution_count": 16,
   "id": "d93d3302",
   "metadata": {},
   "outputs": [
    {
     "name": "stdout",
     "output_type": "stream",
     "text": [
      "Shape of the data: 375 channels, 94x94 pixels.\n"
     ]
    },
    {
     "data": {
      "application/vnd.jupyter.widget-view+json": {
       "model_id": "4e9a2c74db4f434aad6e06c8c23dc123",
       "version_major": 2,
       "version_minor": 0
      },
      "text/plain": [
       "Loss:   0%|          | 0/20000 [00:00<?, ?it/s]"
      ]
     },
     "metadata": {},
     "output_type": "display_data"
    }
   ],
   "source": [
    "res_toymodel=SUSHI(DATA,self_T=IAE_Thermal,self_S=IAE_Synch,\n",
    "                              Amplitude_S=None,Amp_fixed=False,Amplitude_T=None,\n",
    "                           niter=20000,stop=1e-7,J=2,kmad=1,mask_amp=10,background=None,\n",
    "                  Cost_function=\"Poisson\",Chi_2_sigma=None,Custom_Cost=None)\n",
    "\n",
    "#To save the results in a pickle file, uncomment these lines: \n",
    "\n",
    "#with open(\"res_sushi_toymodel.p\",\"wb\") as f:\n",
    "#    pickle.dump(res_toymodel,f)"
   ]
  },
  {
   "cell_type": "code",
   "execution_count": 18,
   "id": "6465d169",
   "metadata": {},
   "outputs": [
    {
     "data": {
      "text/plain": [
       "[<matplotlib.lines.Line2D at 0x28a462aa0>]"
      ]
     },
     "execution_count": 18,
     "metadata": {},
     "output_type": "execute_result"
    },
    {
     "data": {
      "image/png": "[encoded data removed]",
      "text/plain": [
       "<Figure size 640x480 with 1 Axes>"
      ]
     },
     "metadata": {},
     "output_type": "display_data"
    }
   ],
   "source": [
    "plt.plot(res_toymodel['Likelihood'])"
   ]
  },
  {
   "cell_type": "code",
   "execution_count": 20,
   "id": "02555a55",
   "metadata": {},
   "outputs": [
    {
     "data": {
      "application/vnd.jupyter.widget-view+json": {
       "model_id": "1b1c0ba2b354452782664e7e97fefd18",
       "version_major": 2,
       "version_minor": 0
      },
      "text/plain": [
       "interactive(children=(IntSlider(value=46, description='i', max=93), IntSlider(value=46, description='j', max=9…"
      ]
     },
     "metadata": {},
     "output_type": "display_data"
    },
    {
     "data": {
      "text/plain": [
       "<function __main__.show_data_cube(i, j, param)>"
      ]
     },
     "execution_count": 20,
     "metadata": {},
     "output_type": "execute_result"
    }
   ],
   "source": [
    "def show_data_cube(i,j,param):\n",
    "    #i,j: pixel position\n",
    "    #param: parameter to show the ground truth of. \n",
    "    #    kT: temperature. z: velocity redshift. \n",
    "    #    pho: photon index (synchrotron component)\n",
    "    \n",
    "    E=GT[\"channels\"]\n",
    "    fig,ax=plt.subplots(1,2,figsize=(11,4),gridspec_kw={'width_ratios': [3, 2]})\n",
    "    ax[0].plot(E,DATA[:,i,j],alpha=0.5,label=\"data\")\n",
    "    ax[0].plot(E,GT[\"Total\"][:,i,j],\"k--\")\n",
    "    ax[0].plot(E,GT[\"Thermal\"][:,i,j],\"r--\")\n",
    "    ax[0].plot(E,GT[\"Synch\"][:,i,j],\"g--\")\n",
    "    \n",
    "    XRec_total=np.reshape(res_toymodel[\"XRec\"][\"Total\"].T,DATA.shape)\n",
    "    ax[0].plot(E,XRec_total[:,i,j],\"k\")\n",
    "    XRec_thermal=np.reshape(res_toymodel[\"XRec\"][\"Total\"].T,DATA.shape)\n",
    "    ax[0].plot(E,XRec_thermal[:,i,j],\"r\")\n",
    "    XRec_synch=np.reshape(res_toymodel[\"XRec\"][\"Total\"].T,DATA.shape)\n",
    "    ax[0].plot(E,XRec_synch[:,i,j],\"g\")\n",
    "    \n",
    "    pcm=ax[1].imshow(GT[\"Params\"][param])\n",
    "    ax[1].scatter(j,i,c=\"r\",marker=\"+\")\n",
    "    fig.colorbar(pcm,ax=ax[1],shrink=0.8)\n",
    "interact(show_data_cube,i=(0,93,1),j=(0,93,1),param=[\"kT\",\"z\",\"pho\"])"
   ]
  },
  {
   "cell_type": "markdown",
   "id": "8391b7a3",
   "metadata": {},
   "source": [
    "To obtain the physical parameters from this fit, at this point is to perform a 1D fit on the unmixed pixels obtained by SUSHI. A method that integrates this to SUSHI directly is in the works. "
   ]
  },
  {
   "cell_type": "code",
   "execution_count": null,
   "id": "52a2092e",
   "metadata": {},
   "outputs": [],
   "source": []
  }
 ],
 "metadata": {
  "kernelspec": {
   "display_name": "Python 3 (ipykernel)",
   "language": "python",
   "name": "python3"
  },
  "language_info": {
   "codemirror_mode": {
    "name": "ipython",
    "version": 3
   },
   "file_extension": ".py",
   "mimetype": "text/x-python",
   "name": "python",
   "nbconvert_exporter": "python",
   "pygments_lexer": "ipython3",
   "version": "3.10.6"
  }
 },
 "nbformat": 4,
 "nbformat_minor": 5
}
